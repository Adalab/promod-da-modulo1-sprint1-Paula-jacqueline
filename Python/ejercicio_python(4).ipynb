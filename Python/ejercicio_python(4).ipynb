{
 "cells": [
  {
   "attachments": {},
   "cell_type": "markdown",
   "metadata": {},
   "source": [
    "CREAR DICCIONARIO"
   ]
  },
  {
   "cell_type": "code",
   "execution_count": 6,
   "metadata": {},
   "outputs": [],
   "source": [
    "#Cuatro keys que serán:\n",
    "diccionario = {\"nombres\": [], \"apellidos\" : [], \"edades\" : [], \"hijos\" : []}"
   ]
  },
  {
   "cell_type": "code",
   "execution_count": 7,
   "metadata": {},
   "outputs": [
    {
     "name": "stdout",
     "output_type": "stream",
     "text": [
      "['Pedro', 'Sara', 'Beatriz']\n"
     ]
    }
   ],
   "source": [
    "#Cread un input que pregunte a la usuaria por tres nombres. \n",
    "nombres = input(\"escriba tres  nombres\")\n",
    "nombres = nombres.split(\",\")\n",
    "print(nombres)"
   ]
  },
  {
   "cell_type": "code",
   "execution_count": 8,
   "metadata": {},
   "outputs": [
    {
     "name": "stdout",
     "output_type": "stream",
     "text": [
      "['Santana', 'Marrero', 'Hernandez']\n"
     ]
    }
   ],
   "source": [
    "#Cread un input que pregunte a la usuaria por tres apellidos.\n",
    "apellidos = input(\"Escriba tres apellidos\") \n",
    "apellidos = apellidos.split(\",\")\n",
    "print(apellidos)"
   ]
  },
  {
   "cell_type": "code",
   "execution_count": 9,
   "metadata": {},
   "outputs": [
    {
     "name": "stdout",
     "output_type": "stream",
     "text": [
      "['19', '38', '26']\n"
     ]
    }
   ],
   "source": [
    "#Cread un input que pregunte a la usuaria por tres edades.\n",
    "edades = input(\"Digas tres edades\")\n",
    "edades = edades.split(\",\")\n",
    "print(edades)"
   ]
  },
  {
   "cell_type": "code",
   "execution_count": 10,
   "metadata": {},
   "outputs": [
    {
     "name": "stdout",
     "output_type": "stream",
     "text": [
      "['0', '2', '1']\n"
     ]
    }
   ],
   "source": [
    "#Cread un input que pregunte a la usuaria por el número de hijos. \n",
    "hijos = input(\"Número de hijos\")\n",
    "hijos = hijos.split(\",\")\n",
    "print(hijos)"
   ]
  },
  {
   "cell_type": "code",
   "execution_count": 11,
   "metadata": {},
   "outputs": [
    {
     "data": {
      "text/plain": [
       "{'nombres': ['Pedro', 'Sara', 'Beatriz'],\n",
       " 'apellidos': ['Santana', 'Marrero', 'Hernandez'],\n",
       " 'edades': ['19', '38', '26'],\n",
       " 'hijos': ['0', '2', '1']}"
      ]
     },
     "execution_count": 11,
     "metadata": {},
     "output_type": "execute_result"
    }
   ],
   "source": [
    "#Cread un diccionario con los resultados del input\n",
    "diccionario = dict({\"nombres\": nombres, \"apellidos\" : apellidos, \"edades\" : edades, \"hijos\" : hijos})\n",
    "diccionario"
   ]
  },
  {
   "cell_type": "code",
   "execution_count": 12,
   "metadata": {},
   "outputs": [
    {
     "name": "stdout",
     "output_type": "stream",
     "text": [
      "['2', '0', '1']\n"
     ]
    },
    {
     "data": {
      "text/plain": [
       "{'nombres': ['Pedro', 'Sara', 'Beatriz'],\n",
       " 'apellidos': ['Santana', 'Marrero', 'Hernandez'],\n",
       " 'edades': ['19', '38', '26'],\n",
       " 'hijos': ['0', '2', '1'],\n",
       " 'hermanos': ['2', '0', '1']}"
      ]
     },
     "execution_count": 12,
     "metadata": {},
     "output_type": "execute_result"
    }
   ],
   "source": [
    "#Una vez tengáis creado el diccionario, añadid una nueva key donde tengamos la información sobre el número de hermanos.\n",
    "hermanos = input(\"Número de hermanos\")\n",
    "hermanos = hermanos.split(\",\")\n",
    "print(hermanos)\n",
    "diccionario.update({\"hermanos\" : hermanos})\n",
    "diccionario"
   ]
  },
  {
   "cell_type": "code",
   "execution_count": 13,
   "metadata": {},
   "outputs": [
    {
     "name": "stdout",
     "output_type": "stream",
     "text": [
      "dict_keys(['nombres', 'apellidos', 'edades', 'hijos', 'hermanos'])\n",
      "dict_values([['Pedro', 'Sara', 'Beatriz'], ['Santana', 'Marrero', 'Hernandez'], ['19', '38', '26'], ['0', '2', '1'], ['2', '0', '1']])\n"
     ]
    }
   ],
   "source": [
    "#¿Cúales son las keys de nuestro diccionario?\n",
    "print(diccionario.keys())\n",
    "\n",
    "#¿Y los values?\n",
    "print(diccionario.values())"
   ]
  },
  {
   "cell_type": "code",
   "execution_count": 19,
   "metadata": {},
   "outputs": [
    {
     "data": {
      "text/plain": [
       "['Pedro', 'Sara', 'Beatriz']"
      ]
     },
     "execution_count": 19,
     "metadata": {},
     "output_type": "execute_result"
    }
   ],
   "source": [
    "#Extraed los valores de la key nombres. Utilizad dos métodos diferentes.\n",
    "diccionario.get(\"nombres\")"
   ]
  },
  {
   "cell_type": "code",
   "execution_count": 20,
   "metadata": {},
   "outputs": [
    {
     "data": {
      "text/plain": [
       "{'nombres': ['Pedro', 'Sara', 'Beatriz'],\n",
       " 'apellidos': ['Santana', 'Marrero', 'Hernandez'],\n",
       " 'edades': ['19', '38', '26'],\n",
       " 'hijos': ['0', '2', '1'],\n",
       " 'hermanos': ['2', '0', '1'],\n",
       " 'nacionalidad': ['desconocida']}"
      ]
     },
     "execution_count": 20,
     "metadata": {},
     "output_type": "execute_result"
    }
   ],
   "source": [
    "#Extraed los valores de la key nacionalidad.\n",
    "diccionario.setdefault(\"nacionalidad\", [\"desconocida\"])\n",
    "diccionario"
   ]
  },
  {
   "cell_type": "code",
   "execution_count": 21,
   "metadata": {},
   "outputs": [
    {
     "data": {
      "text/plain": [
       "{'apellidos': ['Santana', 'Marrero', 'Hernandez'],\n",
       " 'edades': ['19', '38', '26'],\n",
       " 'hermanos': ['2', '0', '1'],\n",
       " 'hijos': ['0', '2', '1'],\n",
       " 'nacionalidad': ['desconocida'],\n",
       " 'nombres': ['Pedro', 'Sara', 'Beatriz']}"
      ]
     },
     "execution_count": 21,
     "metadata": {},
     "output_type": "execute_result"
    }
   ],
   "source": [
    "#Ordena los elementos del diccionario basándonos en las keys y los values. \n",
    "sorted(diccionario.items())\n",
    "\n",
    "#Convertid esta lista de tuplas en diccionario.\n",
    "dict(sorted(diccionario.items()))"
   ]
  },
  {
   "cell_type": "code",
   "execution_count": 22,
   "metadata": {},
   "outputs": [
    {
     "data": {
      "text/plain": [
       "{'nombres': ['Pedro', 'Sara', 'Beatriz'],\n",
       " 'apellidos': ['Santana', 'Marrero', 'Hernandez'],\n",
       " 'edades': ['19', '38', '26'],\n",
       " 'hijos': ['0', '2', '1'],\n",
       " 'hermanos': ['2', '0', '1']}"
      ]
     },
     "execution_count": 22,
     "metadata": {},
     "output_type": "execute_result"
    }
   ],
   "source": [
    "#Eliminad la key de \"nacionalidad\"\n",
    "diccionario.pop(\"nacionalidad\")\n",
    "diccionario"
   ]
  },
  {
   "cell_type": "code",
   "execution_count": 51,
   "metadata": {},
   "outputs": [
    {
     "name": "stdout",
     "output_type": "stream",
     "text": [
      "2\n",
      "Sara\n",
      "19\n",
      "Sara\n"
     ]
    }
   ],
   "source": [
    "#¿Qué persona tiene mayor número de hijos?\n",
    "print(max(diccionario[\"hijos\"])) \n",
    "print(diccionario [\"nombres\"][diccionario[\"hijos\"].index(max(diccionario[\"hijos\"]))])\n",
    "\n",
    "#¿Y quién es la más joven?\n",
    "print(min(diccionario[\"edades\"]))\n",
    "print(diccionario[\"nombres\"][diccionario[\"edades\"].index(max(diccionario[\"edades\"]))])\n",
    "\n"
   ]
  }
 ],
 "metadata": {
  "kernelspec": {
   "display_name": "base",
   "language": "python",
   "name": "python3"
  },
  "language_info": {
   "codemirror_mode": {
    "name": "ipython",
    "version": 3
   },
   "file_extension": ".py",
   "mimetype": "text/x-python",
   "name": "python",
   "nbconvert_exporter": "python",
   "pygments_lexer": "ipython3",
   "version": "3.9.7"
  },
  "orig_nbformat": 4,
  "vscode": {
   "interpreter": {
    "hash": "3b187b1a353a6cb9976ea468dfee2c186e4f79e329f78df411c02c4da660526e"
   }
  }
 },
 "nbformat": 4,
 "nbformat_minor": 2
}
