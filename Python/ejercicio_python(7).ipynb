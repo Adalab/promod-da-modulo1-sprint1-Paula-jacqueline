{
 "cells": [
  {
   "attachments": {},
   "cell_type": "markdown",
   "metadata": {},
   "source": [
    "Escribid un programa que pregunte al usuario una cantidad a invertir, el interés anual y el número de años, y muestre por pantalla el capital obtenido en la inversión cada año que dura la inversión."
   ]
  },
  {
   "cell_type": "code",
   "execution_count": 6,
   "metadata": {},
   "outputs": [
    {
     "name": "stdout",
     "output_type": "stream",
     "text": [
      "La cantidad a invertir es de 18000€\n",
      "El interés anual es de un 7%\n",
      "Su inversión es de 5 años\n"
     ]
    }
   ],
   "source": [
    "cantidad = int(input(\"Diga su cantidad a invertir\"))\n",
    "interes = int(input(\"El porcentaje de interés anual que le gustaría\"))\n",
    "años = int(input(\"Y de cuántos años es la inversión\"))\n",
    "\n",
    "print(f\"La cantidad a invertir es de {cantidad}€\")\n",
    "print(f\"El interés anual es de un {interes}%\")\n",
    "print(f\"Su inversión es de {años} años\")"
   ]
  },
  {
   "cell_type": "code",
   "execution_count": 7,
   "metadata": {},
   "outputs": [
    {
     "name": "stdout",
     "output_type": "stream",
     "text": [
      "El capital obtenido este año 1 es de 1260.0€\n",
      "El capital obtenido este año 2 es de 1260.0€\n",
      "El capital obtenido este año 3 es de 1260.0€\n",
      "El capital obtenido este año 4 es de 1260.0€\n",
      "El capital obtenido este año 5 es de 1260.0€\n"
     ]
    }
   ],
   "source": [
    "for x in range(años):\n",
    "    capital_obt = (cantidad * interes/100)\n",
    "    print(f\"El capital obtenido este año {x+1} es de {capital_obt}€\")"
   ]
  },
  {
   "attachments": {},
   "cell_type": "markdown",
   "metadata": {},
   "source": [
    "Escribid un programa en el que se pregunte al usuario por una frase y una letra, y muestre por pantalla el número de veces que aparece la letra en la frase."
   ]
  },
  {
   "cell_type": "code",
   "execution_count": 9,
   "metadata": {},
   "outputs": [
    {
     "name": "stdout",
     "output_type": "stream",
     "text": [
      "La frase es: Veni,Vidi,Vici\n",
      "La letra es: i\n",
      "La letra seleccionada aparece en su frase 5 veces\n"
     ]
    }
   ],
   "source": [
    "frase = input(\"Diga una frase\")\n",
    "letra = input(\"Elija una letra\")\n",
    "\n",
    "print(f\"La frase es: {frase}\")\n",
    "print(f\"La letra es: {letra}\")\n",
    "\n",
    "veces = frase.count(letra)\n",
    "print(f\"La letra seleccionada aparece en su frase {veces} veces\")"
   ]
  },
  {
   "attachments": {},
   "cell_type": "markdown",
   "metadata": {},
   "source": [
    "Escribid un programa que nos devuelva la tabla de multiplicar de un número especificado en una función input"
   ]
  },
  {
   "cell_type": "code",
   "execution_count": 12,
   "metadata": {},
   "outputs": [
    {
     "name": "stdout",
     "output_type": "stream",
     "text": [
      "9\n",
      "9 x 0 = 0\n",
      "9 x 1 = 9\n",
      "9 x 2 = 18\n",
      "9 x 3 = 27\n",
      "9 x 4 = 36\n",
      "9 x 5 = 45\n",
      "9 x 6 = 54\n",
      "9 x 7 = 63\n",
      "9 x 8 = 72\n",
      "9 x 9 = 81\n",
      "9 x 10 = 90\n"
     ]
    }
   ],
   "source": [
    "numero = int(input(\"Diga un número del 0 a 10\"))\n",
    "print(numero)\n",
    "\n",
    "for i in range(11):\n",
    "    print(f\"{numero} x {i} = {numero * i}\")"
   ]
  },
  {
   "attachments": {},
   "cell_type": "markdown",
   "metadata": {},
   "source": [
    "Dada la siguinte lista de números:\n",
    "\n",
    "numbers = [12, 75, 150, 180, 145, 525, 50]\n",
    "\n",
    "Escribid un programa que muestre sólo los números de una lista que cumplan las siguientes condiciones"
   ]
  },
  {
   "cell_type": "code",
   "execution_count": 15,
   "metadata": {},
   "outputs": [
    {
     "name": "stdout",
     "output_type": "stream",
     "text": [
      "75\n",
      "150\n",
      "145\n"
     ]
    }
   ],
   "source": [
    "numbers = [12, 75, 150, 180, 145, 525, 50]\n",
    "\n",
    "for i in numbers:\n",
    "    if i > 500:\n",
    "        break\n",
    "    elif i > 150:\n",
    "        continue\n",
    "    elif i % 5 == 0:\n",
    "        print(i)\n",
    "\n",
    "#El número debe ser divisible entre cinco, la puse al final ya que las demás tienen restricciones de parar o saltar al siguiente numero)"
   ]
  },
  {
   "attachments": {},
   "cell_type": "markdown",
   "metadata": {},
   "source": [
    "Dada la siguiente lista:\n",
    "\n",
    "list1 = [10, 20, 30, 40, 50]\n",
    "\n",
    "Imprimir la lista en orden inverso"
   ]
  },
  {
   "cell_type": "code",
   "execution_count": 19,
   "metadata": {},
   "outputs": [
    {
     "data": {
      "text/plain": [
       "[50, 40, 30, 20, 10]"
      ]
     },
     "execution_count": 19,
     "metadata": {},
     "output_type": "execute_result"
    }
   ],
   "source": [
    "list1 = [10, 20, 30, 40, 50]\n",
    "\n",
    "list1.reverse()\n",
    "list1"
   ]
  },
  {
   "attachments": {},
   "cell_type": "markdown",
   "metadata": {},
   "source": [
    "Dado el siguiente código\n",
    "\n",
    "for i in ['1','2','3']:\n",
    "    print (i**2)\n",
    "\n",
    "Usando un try ... except, cread un programa para evitar que nos de un error el código anterior. En su lugar, si se encuentra un error, deberéis poner el código necesario para que no nos devuelva error."
   ]
  },
  {
   "cell_type": "code",
   "execution_count": null,
   "metadata": {},
   "outputs": [],
   "source": []
  }
 ],
 "metadata": {
  "kernelspec": {
   "display_name": "base",
   "language": "python",
   "name": "python3"
  },
  "language_info": {
   "codemirror_mode": {
    "name": "ipython",
    "version": 3
   },
   "file_extension": ".py",
   "mimetype": "text/x-python",
   "name": "python",
   "nbconvert_exporter": "python",
   "pygments_lexer": "ipython3",
   "version": "3.9.7"
  },
  "orig_nbformat": 4
 },
 "nbformat": 4,
 "nbformat_minor": 2
}
