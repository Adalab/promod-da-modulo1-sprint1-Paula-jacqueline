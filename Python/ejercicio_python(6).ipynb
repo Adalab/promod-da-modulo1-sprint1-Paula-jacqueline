{
 "cells": [
  {
   "attachments": {},
   "cell_type": "markdown",
   "metadata": {},
   "source": [
    "- Below 25 - F\n",
    "- 25 to 45 - E\n",
    "- 45 to 50 - D\n",
    "- 50 to 60 - C\n",
    "- 60 to 80 - B\n",
    "- Above 80 - A"
   ]
  },
  {
   "cell_type": "code",
   "execution_count": 31,
   "metadata": {},
   "outputs": [
    {
     "name": "stdout",
     "output_type": "stream",
     "text": [
      "A\n"
     ]
    },
    {
     "data": {
      "text/plain": [
       "34"
      ]
     },
     "execution_count": 31,
     "metadata": {},
     "output_type": "execute_result"
    }
   ],
   "source": [
    "numero = int(input(\"Diga un número\"))\n",
    "\n",
    "if numero <= 25:\n",
    "    print(\"F\")\n",
    "elif 25 > numero and numero < 45:\n",
    "    print(\"E\")\n",
    "elif numero >= 45 and numero <= 50:\n",
    "    print(\"D\")\n",
    "elif numero >= 50 and numero <= 60:\n",
    "    print(\"C\")\n",
    "elif numero >=60 and numero <= 80:\n",
    "    print(\"B\")\n",
    "else:\n",
    "    print(\"A\")\n",
    "numero"
   ]
  },
  {
   "cell_type": "code",
   "execution_count": 32,
   "metadata": {},
   "outputs": [
    {
     "name": "stdout",
     "output_type": "stream",
     "text": [
      "usted es el mayor\n"
     ]
    }
   ],
   "source": [
    "edad_1 = int(input(\"Diga su nombre y edad\"))\n",
    "edad_2 = int(input(\"Diga su nombre y edad\"))\n",
    "edad_3 = int(input(\"Diga su nombre y edad\"))\n",
    "\n",
    "if edad_1 > edad_2 and edad_1 > edad_3:\n",
    "    print(\"usted es el mayor\")\n",
    "elif edad_2 > edad_1 and edad_2 > edad_3:\n",
    "    print(\"usted es el mayor\")\n",
    "else:\n",
    "    print(\"usted es el mayor\")\n",
    "\n"
   ]
  },
  {
   "cell_type": "code",
   "execution_count": null,
   "metadata": {},
   "outputs": [],
   "source": []
  }
 ],
 "metadata": {
  "kernelspec": {
   "display_name": "Python 3",
   "language": "python",
   "name": "python3"
  },
  "language_info": {
   "codemirror_mode": {
    "name": "ipython",
    "version": 3
   },
   "file_extension": ".py",
   "mimetype": "text/x-python",
   "name": "python",
   "nbconvert_exporter": "python",
   "pygments_lexer": "ipython3",
   "version": "3.10.10"
  },
  "orig_nbformat": 4
 },
 "nbformat": 4,
 "nbformat_minor": 2
}
