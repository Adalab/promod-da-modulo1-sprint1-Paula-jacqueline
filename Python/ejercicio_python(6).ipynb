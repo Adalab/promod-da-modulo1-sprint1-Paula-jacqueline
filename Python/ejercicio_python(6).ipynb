{
 "cells": [
  {
   "attachments": {},
   "cell_type": "markdown",
   "metadata": {},
   "source": [
    "- Below 25 - F\n",
    "- 25 to 45 - E\n",
    "- 45 to 50 - D\n",
    "- 50 to 60 - C\n",
    "- 60 to 80 - B\n",
    "- Above 80 - A\n",
    "\n",
    "El objetivo de este ejercicio es que le preguntéis al usuario por una nota (numérica) y nosotros le devolvamos la nota con la letra que le corresponde."
   ]
  },
  {
   "cell_type": "code",
   "execution_count": 6,
   "metadata": {},
   "outputs": [
    {
     "name": "stdout",
     "output_type": "stream",
     "text": [
      "D\n"
     ]
    },
    {
     "data": {
      "text/plain": [
       "45"
      ]
     },
     "execution_count": 6,
     "metadata": {},
     "output_type": "execute_result"
    }
   ],
   "source": [
    "numero = int(input(\"Diga un número\"))\n",
    "\n",
    "if numero <= 25:\n",
    "    print(\"F\")\n",
    "elif 25 > numero and numero < 45:\n",
    "    print(\"E\")\n",
    "elif numero >= 45 and numero <= 50:\n",
    "    print(\"D\")\n",
    "elif numero >= 50 and numero <= 60:\n",
    "    print(\"C\")\n",
    "elif numero >=60 and numero <= 80:\n",
    "    print(\"B\")\n",
    "else:\n",
    "    print(\"A\")\n",
    "numero"
   ]
  },
  {
   "attachments": {},
   "cell_type": "markdown",
   "metadata": {},
   "source": [
    "Cread tres inputs donde a cada uno de ellos le preguntéis su edad, el objetivo del ejercicio es determinar quien es el más viejo y el más joven."
   ]
  },
  {
   "cell_type": "code",
   "execution_count": 9,
   "metadata": {},
   "outputs": [
    {
     "name": "stdout",
     "output_type": "stream",
     "text": [
      "Persona 3, su edad es de 79 años,usted es el mayor\n",
      "Persona 1, su edad es de 27 años,usted es el más joven\n"
     ]
    }
   ],
   "source": [
    "edad_1 = int(input(\"Persona 1, diga su edad\"))\n",
    "edad_2 = int(input(\"Persona 2, diga su edad\"))\n",
    "edad_3 = int(input(\"Persona 3, diga su edad\"))\n",
    "\n",
    "if edad_1 > edad_2 and edad_1 > edad_3:\n",
    "    print(f\"Persona 1, su edad es de {edad_1} años,usted es el mayor\")\n",
    "elif edad_2 > edad_1 and edad_2 > edad_3:\n",
    "    print(f\",Persona 2, su edad es de {edad_2} años,usted es el mayor\")\n",
    "else:\n",
    "    print(f\"Persona 3, su edad es de {edad_3} años,usted es el mayor\")\n",
    "\n",
    "\n",
    "\n",
    "if edad_1 < edad_2 and edad_1 < edad_3:\n",
    "    print(f\"Persona 1, su edad es de {edad_1} años,usted es el más joven\")\n",
    "elif edad_2 < edad_1 and edad_2 < edad_3:\n",
    "    print(f\"Persona 2, su edad es de {edad_2} años,usted es el más joven\")\n",
    "else:\n",
    "    print(f\"Persona 3, su edad es de {edad_3} años,usted es el más joven\")\n",
    "\n",
    "\n",
    "#(\"esto\") es una cadena de texto normal y (f\"esto\") es una f-string."
   ]
  },
  {
   "attachments": {},
   "cell_type": "markdown",
   "metadata": {},
   "source": [
    "Escribid un programa que pregunte el nombre del usuario a través de la función input(). Si el nombre es \"Bond\" haced que imprima \"Bienvenido a bordo de 007\". En caso contrario haced que imprima \"Buenos días NOMBRE\". (Reemplace NOMBRE por el nombre del usuario).\n",
    "nombre = input(\"Escriba aquí su nombre: \")"
   ]
  },
  {
   "cell_type": "code",
   "execution_count": 12,
   "metadata": {},
   "outputs": [
    {
     "name": "stdout",
     "output_type": "stream",
     "text": [
      "Bienvenido a bordo de 007\n"
     ]
    },
    {
     "data": {
      "text/plain": [
       "'Bond'"
      ]
     },
     "execution_count": 12,
     "metadata": {},
     "output_type": "execute_result"
    }
   ],
   "source": [
    "nombre = input(\"Escriba su nombre\")\n",
    "\n",
    "if nombre == \"Bond\":\n",
    "    print(\"Bienvenido a bordo de 007\")\n",
    "else:\n",
    "    print(f\"Buenos días {nombre}\")\n",
    "\n",
    "nombre"
   ]
  },
  {
   "attachments": {},
   "cell_type": "markdown",
   "metadata": {},
   "source": [
    "Si introdujeramos un nombre en vez de Bond:"
   ]
  },
  {
   "cell_type": "code",
   "execution_count": 13,
   "metadata": {},
   "outputs": [
    {
     "name": "stdout",
     "output_type": "stream",
     "text": [
      "Buenos días Marisol\n"
     ]
    },
    {
     "data": {
      "text/plain": [
       "'Marisol'"
      ]
     },
     "execution_count": 13,
     "metadata": {},
     "output_type": "execute_result"
    }
   ],
   "source": [
    "nombre = input(\"Escriba su nombre\")\n",
    "\n",
    "if nombre == \"Bond\":\n",
    "    print(\"Bienvenido a bordo de 007\")\n",
    "else:\n",
    "    print(f\"Buenos días {nombre}\")\n",
    "\n",
    "nombre"
   ]
  },
  {
   "attachments": {},
   "cell_type": "markdown",
   "metadata": {},
   "source": [
    "arbol es un diccionario que muestra el número de árboles de países por kilómetro cuadrado para países aleatorios con un número considerable de población. Crea una lista llamada \"masarboles\" que contenga el nombre de los países con más de 40.000 árboles por kilómetro cuadrado."
   ]
  },
  {
   "cell_type": "code",
   "execution_count": 45,
   "metadata": {},
   "outputs": [],
   "source": [
    "tree = {\"Taiwan\": 69593,\n",
    "        \"Japan\": 49894, \n",
    "        \"Russia\": 41396, \n",
    "        \"Canada\": 36388, \n",
    "        \"Bulgaria\": 24987}"
   ]
  },
  {
   "cell_type": "code",
   "execution_count": 46,
   "metadata": {},
   "outputs": [
    {
     "name": "stdout",
     "output_type": "stream",
     "text": [
      "Los países con mas de 40000 arboles por metro cuadrado son: ['Taiwan', 'Japan', 'Russia']\n"
     ]
    }
   ],
   "source": [
    "masarboles = []\n",
    "\n",
    "if tree [\"Taiwan\"] > 40000:\n",
    "    masarboles.append(\"Taiwan\")\n",
    "\n",
    "\n",
    "if tree [\"Japan\"] > 40000:\n",
    "    masarboles.append(\"Japan\")\n",
    "\n",
    "\n",
    "if tree [\"Russia\"] > 40000:\n",
    "    masarboles.append(\"Russia\")\n",
    "\n",
    "\n",
    "if tree [\"Canada\"] > 40000:\n",
    "    masarboles.append(\"Canada\")\n",
    "\n",
    "\n",
    "if tree [\"Bulgaria\"] > 40000:\n",
    "    masarboles.append(\"Bulgaria\") \n",
    "\n",
    "\n",
    "print(f\"Los países con mas de 40000 arboles por metro cuadrado son: {masarboles}\")"
   ]
  },
  {
   "attachments": {},
   "cell_type": "markdown",
   "metadata": {},
   "source": [
    "Escribid un programa que:\n",
    "\n",
    "-Dada la variable z con valor 0, es decir z = 0.\n",
    "\n",
    "-Mientras que el valor de z sea menor que 3:\n",
    "\n",
    "-Si el valor de z es igual a 0:\n",
    "\n",
    "-Printead el valor de z\n",
    "\n",
    "-Almancenad el valor en una lista auxiliar\n",
    "\n",
    "-Sumadle 1 al valor de z\n",
    "\n",
    "-Si el valor de z es igual a 1:\n",
    "\n",
    "-Printead el valor de z\n",
    "\n",
    "-Almancenad el valor en una lista auxiliar\n",
    "\n",
    "-Sumadle 1 al valor de z\n",
    "\n",
    "-En caso de que no se cumplan las condiciones anteriores:\n",
    "\n",
    "-Printead el valor de z\n",
    "\n",
    "-Sumadle 1 al valor de z"
   ]
  },
  {
   "cell_type": "code",
   "execution_count": 40,
   "metadata": {},
   "outputs": [
    {
     "name": "stdout",
     "output_type": "stream",
     "text": [
      "0\n",
      "1\n",
      "2\n"
     ]
    }
   ],
   "source": [
    "z = 0\n",
    "\n",
    "while z < 3:   #consideramos que era < 3 y no <= 3\n",
    "\n",
    "    if z == 0:\n",
    "        print(z)\n",
    "        lista_aux1 = [z]\n",
    "        z = z + 1\n",
    "    elif z == 1:\n",
    "        print(z)\n",
    "        lista_aux2 = [z]\n",
    "        z = z + 1\n",
    "    else:\n",
    "        print(z)\n",
    "        z = z + 1\n"
   ]
  },
  {
   "attachments": {},
   "cell_type": "markdown",
   "metadata": {},
   "source": [
    "BONUS El objetivo de este ejercicio es añadir elementos a una lista utilizando el bucle while:\n",
    "\n",
    "Cread una lista vacía\n",
    "\n",
    "Cread una variable cuyo valor sea 0\n",
    "\n",
    "Mientras que la longitud de la lista creada en el primer paso sea menor que 4:\n",
    "\n",
    "Apendead el valor de la variable creada en el paso 2\n",
    "\n",
    "Sumad 1 a la variable creada en el paso 2\n",
    "\n",
    "Por último, printead los valores que hemos añadido en la lista vacía (ya no lo estaría)"
   ]
  },
  {
   "cell_type": "code",
   "execution_count": 57,
   "metadata": {},
   "outputs": [
    {
     "name": "stdout",
     "output_type": "stream",
     "text": [
      "[0]\n",
      "[0, 1]\n",
      "[0, 1, 2]\n",
      "[0, 1, 2, 3]\n"
     ]
    }
   ],
   "source": [
    "lista = []\n",
    "v = 0\n",
    "\n",
    "\n",
    "while len(lista) < 4 :\n",
    "    lista.append(v)\n",
    "    v = v + 1\n",
    "    print(lista)"
   ]
  },
  {
   "attachments": {},
   "cell_type": "markdown",
   "metadata": {},
   "source": [
    "BONUS El objetivo de este ejercicio es encontrar la suma de números en una lista usando el bucle while:\n",
    "\n",
    "Cread una variable cuyo valor sea 0, llamadla \"i\"\n",
    "\n",
    "Cread una lista que contenga los siguientes números: 23,45,12,10,25\n",
    "\n",
    "Cread una variable cuyo valor sea 0, llamadla \"suma\"\n",
    "\n",
    "Mientras que el valor de la variable \"i\" sea menor que la longitud de la lista:\n",
    "\n",
    "Sumad elemento a elemento los valores de la lista. Es decir, el primero con el \n",
    "segundo; el resultado de la suma anterior más el tercer número, etc\n",
    "\n",
    "Sumad 1 a la variable \"i\" por cada iteración por el bucle while\n",
    "\n",
    "El resultado esperado es 115."
   ]
  },
  {
   "cell_type": "code",
   "execution_count": 61,
   "metadata": {},
   "outputs": [
    {
     "name": "stdout",
     "output_type": "stream",
     "text": [
      "115\n"
     ]
    }
   ],
   "source": [
    "i = 0\n",
    "lista_num = [23, 45, 12, 10, 25]\n",
    "suma = 0 \n",
    "\n",
    "while i < len(lista_num):\n",
    "    suma = lista_num[0] + lista_num[1] + lista_num[2] + lista_num[3] + lista_num[4]\n",
    "    i = i+1\n",
    "print(suma)\n",
    "\n",
    "#se indexa el print bajo el while para que el output no muestre un bucle de 5 veces (misma len que la lista) la suma."
   ]
  },
  {
   "attachments": {},
   "cell_type": "markdown",
   "metadata": {},
   "source": [
    "BONUS Escribid un programa para una empresa que tiene salas de juegos para todas las edades y quiere calcular de forma automática el precio que debe cobrar a sus clientes por entrar.\n",
    "\n",
    " El programa debe preguntar al usuario la edad del cliente y mostrar el precio de la entrada. \n",
    " \n",
    " Si el cliente es menor de 4 años puede entrar gratis, si tiene entre 4 y 18 años debe pagar 5€ y si es mayor de 18 años, 10€."
   ]
  },
  {
   "cell_type": "code",
   "execution_count": 65,
   "metadata": {},
   "outputs": [
    {
     "name": "stdout",
     "output_type": "stream",
     "text": [
      "18\n",
      "Entrada 5€\n"
     ]
    }
   ],
   "source": [
    "edad_cliente = int(input(\"Diga su edad\"))\n",
    "print(edad_cliente)\n",
    "\n",
    "if edad_cliente < 4:\n",
    "    print(\"Entrada gratuita\")\n",
    "elif edad_cliente >=4 or edad_cliente <=18:\n",
    "    print(\"Entrada 5€\")\n",
    "else:\n",
    "    print(\"Entrada 10€\")"
   ]
  },
  {
   "attachments": {},
   "cell_type": "markdown",
   "metadata": {},
   "source": [
    "BONUS La pizzería Bella Napoli ofrece pizzas vegetarianas y no vegetarianas a sus clientes. Los ingredientes para cada tipo de pizza aparecen a continuación.\n",
    "\n",
    "Ingredientes vegetarianos: Pimiento y tofu.\n",
    "\n",
    "Ingredientes no vegetarianos: Peperoni, Jamón y Salmón.\n",
    "\n",
    "Escribid un programa que pregunte al usuario si quiere una pizza vegetariana o no, y en función de su respuesta le muestre un menú con los ingredientes disponibles para que elija. Solo se puede eligir un ingrediente además de la mozzarella y el tomate que están en todas la pizzas. \n",
    "\n",
    "Al final se debe mostrar por pantalla si la pizza elegida es vegetariana o no y todos los ingredientes que lleva."
   ]
  },
  {
   "cell_type": "code",
   "execution_count": 79,
   "metadata": {},
   "outputs": [
    {
     "name": "stdout",
     "output_type": "stream",
     "text": [
      "Tu pizza no vegetariana llevará: Jamon, Mozzarela y Tomate\n"
     ]
    }
   ],
   "source": [
    "vegetariano = \"pimiento o tofu\"\n",
    "no_vegetariano = \"peperoni o jamon o salmon\"\n",
    "\n",
    "pregunta_tipo = input(\"¿Quiere que su pizza sea vegetariana? (si o no)\")\n",
    "\n",
    "if pregunta_tipo == \"si\":\n",
    "    ingrediente = input(\"Su pizza base lleva: Mozzarela y Tomate. Seleccione otro ingrediente más Pimiento o Tofu\")\n",
    "    if ingrediente == \"Pimiento\":\n",
    "        print(\"Tu pizza vegetariana llevará: Pimiento, Mozzarela y Tomate\")\n",
    "    elif ingrediente == \"Tofu\":\n",
    "        print(\"Tu pizza vegetariana llevará: Tofu, Mozzarella y Tomate\")\n",
    "    else:\n",
    "        print(\"Lo siento, no podemos ofrecerle ese ingrediente, vuelva a pedir la pizza\")   \n",
    "\n",
    "else:\n",
    "    ingrediente = input(\"Su pizza base lleva: Mozzarela y Tomate. Seleccione otro ingrediente más Peperoni o Jamon o Salmon\")\n",
    "    if ingrediente == \"Peperoni\":\n",
    "        print(\"Tu pizza no vegetariana llevará: Peperoni, Mozzarela y Tomate\")\n",
    "    elif ingrediente == \"Jamon\":\n",
    "        print(\"Tu pizza no vegetariana llevará: Jamon, Mozzarela y Tomate\")\n",
    "    elif ingrediente == \"Salmon\":\n",
    "        print(\"Tu pizza no vegetariana llevará: Salmon, Mozzarela y Tomate\")\n",
    "    else:\n",
    "        print(\"Lo siento, no podemos ofrecerle ese ingrediente, vuelva a pedir la pizza\")\n"
   ]
  }
 ],
 "metadata": {
  "kernelspec": {
   "display_name": "Python 3",
   "language": "python",
   "name": "python3"
  },
  "language_info": {
   "codemirror_mode": {
    "name": "ipython",
    "version": 3
   },
   "file_extension": ".py",
   "mimetype": "text/x-python",
   "name": "python",
   "nbconvert_exporter": "python",
   "pygments_lexer": "ipython3",
   "version": "3.9.7"
  },
  "orig_nbformat": 4
 },
 "nbformat": 4,
 "nbformat_minor": 2
}
