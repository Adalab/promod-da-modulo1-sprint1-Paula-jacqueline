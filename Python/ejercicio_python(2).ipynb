{
 "cells": [
  {
   "attachments": {},
   "cell_type": "markdown",
   "metadata": {},
   "source": [
    "Usando la función input, cread un programa que pregunte al usuario por el nombre de tres amig@s."
   ]
  },
  {
   "cell_type": "code",
   "execution_count": 1,
   "metadata": {},
   "outputs": [],
   "source": [
    "amigos = input(\"Indique el nombre de tres amigos\")"
   ]
  },
  {
   "cell_type": "code",
   "execution_count": 2,
   "metadata": {},
   "outputs": [
    {
     "name": "stdout",
     "output_type": "stream",
     "text": [
      "['Javier', 'Victoria', 'Alejandro']\n"
     ]
    }
   ],
   "source": [
    "#Almacenad los resultados del paso anterior en una lista.\n",
    "nombre_amigos = amigos.split(\",\")\n",
    "print(nombre_amigos)"
   ]
  },
  {
   "attachments": {},
   "cell_type": "markdown",
   "metadata": {},
   "source": [
    "Usando la función input, cread un programa que ahora le pregunte al usuario por las alturas de sus amig@s"
   ]
  },
  {
   "cell_type": "code",
   "execution_count": 5,
   "metadata": {},
   "outputs": [
    {
     "name": "stdout",
     "output_type": "stream",
     "text": [
      "['1.73', '1.68', '2.10']\n"
     ]
    }
   ],
   "source": [
    "altura = input(\"Indique cuánto miden sus amigos\")\n",
    "altura_amigos = altura.split(\",\")\n",
    "print (altura_amigos)\n"
   ]
  },
  {
   "cell_type": "code",
   "execution_count": 6,
   "metadata": {},
   "outputs": [],
   "source": [
    "#Nos interesa que las alturas estén en tipo float\n",
    "altura_amigos = [float(i) for i in altura_amigos]"
   ]
  },
  {
   "cell_type": "code",
   "execution_count": 8,
   "metadata": {},
   "outputs": [
    {
     "name": "stdout",
     "output_type": "stream",
     "text": [
      "[2.1, 1.73, 1.68]\n",
      "['Victoria', 'Javier', 'Alejandro']\n"
     ]
    }
   ],
   "source": [
    "#Ordenad las dos listas de mayor a menor.\n",
    "altura_amigos = sorted(altura_amigos, reverse=True)\n",
    "print(altura_amigos)\n",
    "\n",
    "nombre_amigos = sorted(nombre_amigos, reverse=True)\n",
    "print(nombre_amigos)"
   ]
  },
  {
   "cell_type": "code",
   "execution_count": 11,
   "metadata": {},
   "outputs": [
    {
     "name": "stdout",
     "output_type": "stream",
     "text": [
      "2.1\n",
      "1.68\n"
     ]
    }
   ],
   "source": [
    "#¿Cuál es la altura máxima de todos nuestros amig@s?\n",
    "print(max(altura_amigos))\n",
    "\n",
    "#¿Y la mínima?\n",
    "print(min(altura_amigos))"
   ]
  },
  {
   "attachments": {},
   "cell_type": "markdown",
   "metadata": {},
   "source": [
    "Unid las dos listas de forma que consigamos el siguiente output. \n",
    "\n",
    "Almacenad los resultados en una nueva variable y llamadla lista_lista.\n",
    "\n",
    "Almacenad los resultados en una nueva variable y llamadla lista_numeros."
   ]
  },
  {
   "cell_type": "code",
   "execution_count": 17,
   "metadata": {},
   "outputs": [],
   "source": [
    "lista1 = [44, 55, 67, 44, 98, 29]\n",
    "lista2 = [34, 56, 56, 78, 67, 56]\n",
    "\n",
    "lista_lista = [[44, 55, 67, 44, 98, 29], [34, 56, 56, 78, 67, 56]]\n",
    "\n",
    "lista_numeros = [44, 55, 67, 44, 98, 29, 34, 56, 56, 78, 67, 56]"
   ]
  },
  {
   "cell_type": "code",
   "execution_count": 18,
   "metadata": {},
   "outputs": [
    {
     "name": "stdout",
     "output_type": "stream",
     "text": [
      "0\n",
      "2\n"
     ]
    }
   ],
   "source": [
    "#¿Cuántas veces aparece el número 67?\n",
    "print(lista_lista.count(67))\n",
    "print(lista_numeros.count(67))\n",
    "\n",
    "#El resultado al contar dentro de lista_lista es 0 ya que al ejecutar ese count busca dentro de listas, no de números."
   ]
  },
  {
   "attachments": {},
   "cell_type": "markdown",
   "metadata": {},
   "source": [
    "Usando la lista_numeros, dadle la vuelta a la lista."
   ]
  },
  {
   "cell_type": "code",
   "execution_count": 24,
   "metadata": {},
   "outputs": [
    {
     "data": {
      "text/plain": [
       "[56, 67, 78, 56, 56, 34, 29, 98, 44, 67, 55, 44]"
      ]
     },
     "execution_count": 24,
     "metadata": {},
     "output_type": "execute_result"
    }
   ],
   "source": [
    "lista_numeros.reverse()\n",
    "lista_numeros\n"
   ]
  }
 ],
 "metadata": {
  "kernelspec": {
   "display_name": "base",
   "language": "python",
   "name": "python3"
  },
  "language_info": {
   "codemirror_mode": {
    "name": "ipython",
    "version": 3
   },
   "file_extension": ".py",
   "mimetype": "text/x-python",
   "name": "python",
   "nbconvert_exporter": "python",
   "pygments_lexer": "ipython3",
   "version": "3.9.7"
  },
  "orig_nbformat": 4,
  "vscode": {
   "interpreter": {
    "hash": "3b187b1a353a6cb9976ea468dfee2c186e4f79e329f78df411c02c4da660526e"
   }
  }
 },
 "nbformat": 4,
 "nbformat_minor": 2
}
