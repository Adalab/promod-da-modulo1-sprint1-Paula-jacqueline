{
 "cells": [
  {
   "cell_type": "code",
   "execution_count": 32,
   "metadata": {},
   "outputs": [],
   "source": [
    "#Cuatro keys que serán:\n",
    "diccionario = {\"nombres\": [], \"apellidos\" : [], \"edades\" : [], \"hijos\" : []}"
   ]
  },
  {
   "cell_type": "code",
   "execution_count": 33,
   "metadata": {},
   "outputs": [
    {
     "name": "stdout",
     "output_type": "stream",
     "text": [
      "['Pedro', 'Sandra', 'Beatriz']\n"
     ]
    }
   ],
   "source": [
    "#Cread un input que pregunte a la usuaria por tres nombres. \n",
    "nombres = input(\"escriba tres  nombres\")\n",
    "nombres = nombres.split(\",\")\n",
    "print(nombres)"
   ]
  },
  {
   "cell_type": "code",
   "execution_count": 34,
   "metadata": {},
   "outputs": [
    {
     "name": "stdout",
     "output_type": "stream",
     "text": [
      "['Domingo', 'Santana', 'Hernández']\n"
     ]
    }
   ],
   "source": [
    "#Cread un input que pregunte a la usuaria por tres apellidos.\n",
    "apellidos = input(\"Escriba tres apellidos\") \n",
    "apellidos = apellidos.split(\",\")\n",
    "print(apellidos)"
   ]
  },
  {
   "cell_type": "code",
   "execution_count": 35,
   "metadata": {},
   "outputs": [
    {
     "name": "stdout",
     "output_type": "stream",
     "text": [
      "['19', '38', '26']\n"
     ]
    }
   ],
   "source": [
    "#Cread un input que pregunte a la usuaria por tres edades.\n",
    "edades = input(\"Digas tres edades\")\n",
    "edades = edades.split(\",\")\n",
    "print(edades)"
   ]
  },
  {
   "cell_type": "code",
   "execution_count": 36,
   "metadata": {},
   "outputs": [
    {
     "name": "stdout",
     "output_type": "stream",
     "text": [
      "['0', '2', '1']\n"
     ]
    }
   ],
   "source": [
    "#Cread un input que pregunte a la usuaria por el número de hijos. \n",
    "hijos = input(\"Número de hijos\")\n",
    "hijos = hijos.split(\",\")\n",
    "print(hijos)"
   ]
  },
  {
   "cell_type": "code",
   "execution_count": 37,
   "metadata": {},
   "outputs": [
    {
     "data": {
      "text/plain": [
       "{'nombres': ['Pedro', 'Sandra', 'Beatriz'],\n",
       " 'apellidos': ['Domingo', 'Santana', 'Hernández'],\n",
       " 'edades': ['19', '38', '26'],\n",
       " 'hijos': ['0', '2', '1']}"
      ]
     },
     "execution_count": 37,
     "metadata": {},
     "output_type": "execute_result"
    }
   ],
   "source": [
    "#Cread un diccionario con los resultados del input\n",
    "diccionario = dict({\"nombres\": nombres, \"apellidos\" : apellidos, \"edades\" : edades, \"hijos\" : hijos})\n",
    "diccionario"
   ]
  },
  {
   "cell_type": "code",
   "execution_count": 38,
   "metadata": {},
   "outputs": [
    {
     "name": "stdout",
     "output_type": "stream",
     "text": [
      "['2', '0', '1']\n"
     ]
    },
    {
     "data": {
      "text/plain": [
       "{'nombres': ['Pedro', 'Sandra', 'Beatriz'],\n",
       " 'apellidos': ['Domingo', 'Santana', 'Hernández'],\n",
       " 'edades': ['19', '38', '26'],\n",
       " 'hijos': ['0', '2', '1'],\n",
       " 'hermanos': ['2', '0', '1']}"
      ]
     },
     "execution_count": 38,
     "metadata": {},
     "output_type": "execute_result"
    }
   ],
   "source": [
    "#Una vez tengáis creado el diccionario, añadid una nueva key donde tengamos la información sobre el número de hermanos.\n",
    "hermanos = input(\"Número de hermanos\")\n",
    "hermanos = hermanos.split(\",\")\n",
    "print(hermanos)\n",
    "diccionario.update({\"hermanos\" : hermanos})\n",
    "diccionario"
   ]
  },
  {
   "cell_type": "code",
   "execution_count": 39,
   "metadata": {},
   "outputs": [
    {
     "name": "stdout",
     "output_type": "stream",
     "text": [
      "dict_keys(['nombres', 'apellidos', 'edades', 'hijos', 'hermanos'])\n",
      "dict_values([['Pedro', 'Sandra', 'Beatriz'], ['Domingo', 'Santana', 'Hernández'], ['19', '38', '26'], ['0', '2', '1'], ['2', '0', '1']])\n"
     ]
    }
   ],
   "source": [
    "#¿Cúales son las keys de nuestro diccionario?\n",
    "print(diccionario.keys())\n",
    "\n",
    "#¿Y los values?\n",
    "print(diccionario.values())"
   ]
  },
  {
   "cell_type": "code",
   "execution_count": 74,
   "metadata": {},
   "outputs": [
    {
     "data": {
      "text/plain": [
       "['Pedro', 'Sandra', 'Beatriz']"
      ]
     },
     "execution_count": 74,
     "metadata": {},
     "output_type": "execute_result"
    }
   ],
   "source": [
    "#Extraed los valores de la key nombres. Utilizad dos métodos diferentes.\n",
    "diccionario.get(\"nombres\")"
   ]
  },
  {
   "cell_type": "code",
   "execution_count": 89,
   "metadata": {},
   "outputs": [
    {
     "data": {
      "text/plain": [
       "{'nombres': ['Pedro', 'Sandra', 'Beatriz'],\n",
       " 'apellidos': ['Domingo', 'Santana', 'Hernández'],\n",
       " 'edades': ['19', '38', '26'],\n",
       " 'hijos': ['0', '2', '1'],\n",
       " 'hermanos': ['2', '0', '1'],\n",
       " 'nacionalidad': 'desconocida'}"
      ]
     },
     "execution_count": 89,
     "metadata": {},
     "output_type": "execute_result"
    }
   ],
   "source": [
    "#Extraed los valores de la key nacionalidad.\n",
    "diccionario.setdefault(\"nacionalidad\", [\"desconocida\"])\n",
    "diccionario"
   ]
  },
  {
   "cell_type": "code",
   "execution_count": 100,
   "metadata": {},
   "outputs": [
    {
     "data": {
      "text/plain": [
       "{'apellidos': ['Domingo', 'Santana', 'Hernández'],\n",
       " 'edades': ['19', '38', '26'],\n",
       " 'hermanos': ['2', '0', '1'],\n",
       " 'hijos': ['0', '2', '1'],\n",
       " 'nacionalidad': 'desconocida',\n",
       " 'nombres': ['Pedro', 'Sandra', 'Beatriz']}"
      ]
     },
     "execution_count": 100,
     "metadata": {},
     "output_type": "execute_result"
    }
   ],
   "source": [
    "#Ordena los elementos del diccionario basándonos en las keys y los values. \n",
    "sorted(diccionario.items())\n",
    "\n",
    "#Convertid esta lista de tuplas en diccionario.\n",
    "dict(sorted(diccionario.items()))"
   ]
  },
  {
   "cell_type": "code",
   "execution_count": 102,
   "metadata": {},
   "outputs": [
    {
     "ename": "KeyError",
     "evalue": "'nacionalidad'",
     "output_type": "error",
     "traceback": [
      "\u001b[1;31m---------------------------------------------------------------------------\u001b[0m",
      "\u001b[1;31mKeyError\u001b[0m                                  Traceback (most recent call last)",
      "Cell \u001b[1;32mIn[102], line 1\u001b[0m\n\u001b[1;32m----> 1\u001b[0m diccionario\u001b[39m.\u001b[39;49mpop(\u001b[39m\"\u001b[39;49m\u001b[39mnacionalidad\u001b[39;49m\u001b[39m\"\u001b[39;49m)\n\u001b[0;32m      2\u001b[0m diccionario\n",
      "\u001b[1;31mKeyError\u001b[0m: 'nacionalidad'"
     ]
    }
   ],
   "source": [
    "#Eliminad la key de \"nacionalidad\"\n",
    "diccionario.pop(\"nacionalidad\")\n",
    "diccionario"
   ]
  },
  {
   "cell_type": "code",
   "execution_count": null,
   "metadata": {},
   "outputs": [],
   "source": [
    "#¿Qué persona tiene mayor número de hijos?\n",
    "\n",
    "#¿Y quién es la más joven?"
   ]
  }
 ],
 "metadata": {
  "kernelspec": {
   "display_name": "Python 3",
   "language": "python",
   "name": "python3"
  },
  "language_info": {
   "codemirror_mode": {
    "name": "ipython",
    "version": 3
   },
   "file_extension": ".py",
   "mimetype": "text/x-python",
   "name": "python",
   "nbconvert_exporter": "python",
   "pygments_lexer": "ipython3",
   "version": "3.6.9"
  },
  "orig_nbformat": 4,
  "vscode": {
   "interpreter": {
    "hash": "31f2aee4e71d21fbe5cf8b01ff0e069b9275f58929596ceb00d14d90e3e16cd6"
   }
  }
 },
 "nbformat": 4,
 "nbformat_minor": 2
}
