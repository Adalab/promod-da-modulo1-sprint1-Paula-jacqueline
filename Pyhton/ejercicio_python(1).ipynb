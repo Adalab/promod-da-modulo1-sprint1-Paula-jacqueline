{
 "cells": [
  {
   "cell_type": "code",
   "execution_count": 2,
   "metadata": {},
   "outputs": [],
   "source": [
    "#Cread tres variables numéricas de tipo integer llamadas de la siguiente forma:\n",
    "numero1 = 34\n",
    "numero2 = 86\n",
    "numero3 = 16"
   ]
  },
  {
   "cell_type": "code",
   "execution_count": 3,
   "metadata": {},
   "outputs": [
    {
     "data": {
      "text/plain": [
       "False"
      ]
     },
     "execution_count": 3,
     "metadata": {},
     "output_type": "execute_result"
    }
   ],
   "source": [
    "#¿Es el numero1 mayor que el numero2?\n",
    "numero1 > numero2"
   ]
  },
  {
   "cell_type": "code",
   "execution_count": 4,
   "metadata": {},
   "outputs": [
    {
     "data": {
      "text/plain": [
       "True"
      ]
     },
     "execution_count": 4,
     "metadata": {},
     "output_type": "execute_result"
    }
   ],
   "source": [
    "#¿Es el numero1 menor que el numero2 pero mayor que el numero3?\n",
    "numero1 < numero2 > numero3"
   ]
  },
  {
   "cell_type": "code",
   "execution_count": 5,
   "metadata": {},
   "outputs": [
    {
     "data": {
      "text/plain": [
       "False"
      ]
     },
     "execution_count": 5,
     "metadata": {},
     "output_type": "execute_result"
    }
   ],
   "source": [
    "#¿Es el numero3 igual que el numero2?\n",
    "numero3 is numero2"
   ]
  },
  {
   "cell_type": "code",
   "execution_count": 6,
   "metadata": {},
   "outputs": [
    {
     "data": {
      "text/plain": [
       "True"
      ]
     },
     "execution_count": 6,
     "metadata": {},
     "output_type": "execute_result"
    }
   ],
   "source": [
    "#¿Es el numero2 distinto que el numero1?\n",
    "numero2 is not numero1"
   ]
  },
  {
   "cell_type": "code",
   "execution_count": 7,
   "metadata": {},
   "outputs": [],
   "source": [
    "#Cread dos variables numéricas de tipo float con dos decimales, llamadas de la siguiente forma:\n",
    "altura1 = 1.78\n",
    "altura2 = 2.34"
   ]
  },
  {
   "cell_type": "code",
   "execution_count": 8,
   "metadata": {},
   "outputs": [
    {
     "data": {
      "text/plain": [
       "4.12"
      ]
     },
     "execution_count": 8,
     "metadata": {},
     "output_type": "execute_result"
    }
   ],
   "source": [
    "#¿Cuál es la suma de las dos alturas?\n",
    "altura1 + altura2"
   ]
  },
  {
   "cell_type": "code",
   "execution_count": 9,
   "metadata": {},
   "outputs": [
    {
     "data": {
      "text/plain": [
       "0.5599999999999998"
      ]
     },
     "execution_count": 9,
     "metadata": {},
     "output_type": "execute_result"
    }
   ],
   "source": [
    "#¿Cuál es la diferencia entre las alturas?\n",
    "altura2 - altura1"
   ]
  },
  {
   "cell_type": "code",
   "execution_count": 10,
   "metadata": {},
   "outputs": [
    {
     "data": {
      "text/plain": [
       "1.78"
      ]
     },
     "execution_count": 10,
     "metadata": {},
     "output_type": "execute_result"
    }
   ],
   "source": [
    "#¿Cuál es el resto de la división de las dos alturas?\n",
    "altura1 % altura2"
   ]
  },
  {
   "cell_type": "code",
   "execution_count": 11,
   "metadata": {},
   "outputs": [
    {
     "data": {
      "text/plain": [
       "0.8"
      ]
     },
     "execution_count": 11,
     "metadata": {},
     "output_type": "execute_result"
    }
   ],
   "source": [
    "#¿Cuál es resultado de la división de las dos alturas? Redondead el resultado a un decimal.\n",
    "round(altura1/altura2,1)"
   ]
  },
  {
   "cell_type": "code",
   "execution_count": 12,
   "metadata": {},
   "outputs": [
    {
     "name": "stdout",
     "output_type": "stream",
     "text": [
      "¿Cuál es su nombre?\n",
      "Lola Garcia Santana\n"
     ]
    }
   ],
   "source": [
    "#Escribid un programa usando la función input() que le pregunte al usuario su nombre y apellidos.\n",
    "print('¿Cuál es su nombre?')\n",
    "nombre = input()\n",
    "print(nombre)\n"
   ]
  },
  {
   "cell_type": "code",
   "execution_count": 13,
   "metadata": {},
   "outputs": [
    {
     "data": {
      "text/plain": [
       "'LOLA GARCIA SANTANA'"
      ]
     },
     "execution_count": 13,
     "metadata": {},
     "output_type": "execute_result"
    }
   ],
   "source": [
    "#Printead su nombre y apellidos todo en mayúsculas\n",
    "nombre.upper()"
   ]
  },
  {
   "cell_type": "code",
   "execution_count": 14,
   "metadata": {},
   "outputs": [
    {
     "data": {
      "text/plain": [
       "'lola garcia santana'"
      ]
     },
     "execution_count": 14,
     "metadata": {},
     "output_type": "execute_result"
    }
   ],
   "source": [
    "#Printead su nombre y apellidos todo en minúsculas\n",
    "nombre.lower()"
   ]
  },
  {
   "cell_type": "code",
   "execution_count": 15,
   "metadata": {},
   "outputs": [
    {
     "data": {
      "text/plain": [
       "'Lola Garcia Santana'"
      ]
     },
     "execution_count": 15,
     "metadata": {},
     "output_type": "execute_result"
    }
   ],
   "source": [
    "#Printead su nombre y apellidos con la primera letra del nombre y los apellidos en mayúscula y el resto en minúscula\n",
    "nombre.title()"
   ]
  },
  {
   "cell_type": "code",
   "execution_count": 16,
   "metadata": {},
   "outputs": [
    {
     "data": {
      "text/plain": [
       "'Lola garcia santana'"
      ]
     },
     "execution_count": 16,
     "metadata": {},
     "output_type": "execute_result"
    }
   ],
   "source": [
    "#Printeas solo la primera letra del nombre en mayúscula.\n",
    "nombre.capitalize()"
   ]
  },
  {
   "cell_type": "code",
   "execution_count": 17,
   "metadata": {},
   "outputs": [
    {
     "name": "stdout",
     "output_type": "stream",
     "text": [
      "Diga una frase\n",
      "Tres tristes tigres comen trigo en un trigal\n"
     ]
    }
   ],
   "source": [
    "#Le pregunte al usuario por una frase.\n",
    "print('Diga una frase')\n",
    "frase = input()\n",
    "print(frase)"
   ]
  },
  {
   "cell_type": "code",
   "execution_count": 18,
   "metadata": {},
   "outputs": [
    {
     "name": "stdout",
     "output_type": "stream",
     "text": [
      "Diga una vocal\n",
      "e\n"
     ]
    }
   ],
   "source": [
    "#Le pregunte al usuario por una vocal.\n",
    "print('Diga una vocal')\n",
    "vocal = input()\n",
    "print(vocal)"
   ]
  },
  {
   "cell_type": "code",
   "execution_count": 19,
   "metadata": {},
   "outputs": [
    {
     "name": "stdout",
     "output_type": "stream",
     "text": [
      "TrEs tristEs tigrEs comEn trigo En un trigal\n"
     ]
    }
   ],
   "source": [
    "#Printead la misma frase pero con la vocal introducida en mayúsulas.\n",
    "print(frase.replace(vocal, vocal.upper()))"
   ]
  },
  {
   "cell_type": "code",
   "execution_count": 25,
   "metadata": {},
   "outputs": [
    {
     "name": "stdout",
     "output_type": "stream",
     "text": [
      "lista de la compra\n",
      "leche,platano,naranja,jamón,queso,champú\n"
     ]
    }
   ],
   "source": [
    "#Le pregunte al usuario por la lista de la compra, separando cada elemento por comas.\n",
    "print('lista de la compra')\n",
    "compra = input()\n",
    "print(compra)"
   ]
  },
  {
   "cell_type": "code",
   "execution_count": 26,
   "metadata": {},
   "outputs": [
    {
     "name": "stdout",
     "output_type": "stream",
     "text": [
      "leche\n",
      "platano\n",
      "naranja\n",
      "jamón\n",
      "queso\n",
      "champú\n"
     ]
    }
   ],
   "source": [
    "#Devolved la lista de compra donde veamos cada elemento en una línea.\n",
    "print(compra.replace(',', '\\n' ))\n"
   ]
  }
 ],
 "metadata": {
  "kernelspec": {
   "display_name": "Python 3",
   "language": "python",
   "name": "python3"
  },
  "language_info": {
   "codemirror_mode": {
    "name": "ipython",
    "version": 3
   },
   "file_extension": ".py",
   "mimetype": "text/x-python",
   "name": "python",
   "nbconvert_exporter": "python",
   "pygments_lexer": "ipython3",
   "version": "3.10.10"
  },
  "orig_nbformat": 4,
  "vscode": {
   "interpreter": {
    "hash": "f8ca15d83b6fb72cece3edcf60f6aa40d2cbdeb5c60e0f188ff8c7c65828fd00"
   }
  }
 },
 "nbformat": 4,
 "nbformat_minor": 2
}
